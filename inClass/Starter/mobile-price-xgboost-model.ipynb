{
 "cells": [
  {
   "cell_type": "raw",
   "id": "648a87ee",
   "metadata": {
    "_cell_guid": "b1076dfc-b9ad-4769-8c92-a6c4dae69d19",
    "_uuid": "8f2839f25d086af736a60e9eeb907d3b93b6e0e5",
    "execution": {
     "iopub.execute_input": "2021-08-31T20:43:47.309802Z",
     "iopub.status.busy": "2021-08-31T20:43:47.309424Z",
     "iopub.status.idle": "2021-08-31T20:43:47.320448Z",
     "shell.execute_reply": "2021-08-31T20:43:47.319446Z",
     "shell.execute_reply.started": "2021-08-31T20:43:47.309759Z"
    },
    "papermill": {
     "duration": 0.013644,
     "end_time": "2021-09-02T21:52:24.021024",
     "exception": false,
     "start_time": "2021-09-02T21:52:24.007380",
     "status": "completed"
    },
    "tags": []
   },
   "source": []
  },
  {
   "cell_type": "code",
   "execution_count": 1,
   "id": "6d76e8a9",
   "metadata": {
    "execution": {
     "iopub.execute_input": "2021-09-02T21:52:24.051572Z",
     "iopub.status.busy": "2021-09-02T21:52:24.050329Z",
     "iopub.status.idle": "2021-09-02T21:52:24.063630Z",
     "shell.execute_reply": "2021-09-02T21:52:24.064119Z",
     "shell.execute_reply.started": "2021-09-02T21:50:48.455373Z"
    },
    "papermill": {
     "duration": 0.030139,
     "end_time": "2021-09-02T21:52:24.064404",
     "exception": false,
     "start_time": "2021-09-02T21:52:24.034265",
     "status": "completed"
    },
    "tags": []
   },
   "outputs": [
    {
     "name": "stdout",
     "output_type": "stream",
     "text": [
      "/kaggle/input/applai-summer-contest-a/Sample_Submission.csv\n",
      "/kaggle/input/applai-summer-contest-a/Training_Data.csv\n",
      "/kaggle/input/applai-summer-contest-a/Test_Data.csv\n"
     ]
    }
   ],
   "source": [
    "# This Python 3 environment comes with many helpful analytics libraries installed\n",
    "# It is defined by the kaggle/python Docker image: https://github.com/kaggle/docker-python\n",
    "# For example, here's several helpful packages to load\n",
    "\n",
    "import numpy as np # linear algebra\n",
    "import pandas as pd # data processing, CSV file I/O (e.g. pd.read_csv)\n",
    "\n",
    "# Input data files are available in the read-only \"../input/\" directory\n",
    "# For example, running this (by clicking run or pressing Shift+Enter) will list all files under the input directory\n",
    "\n",
    "import os\n",
    "for dirname, _, filenames in os.walk('/kaggle/input'):\n",
    "    for filename in filenames:\n",
    "        print(os.path.join(dirname, filename))\n",
    "\n",
    "# You can write up to 20GB to the current directory (/kaggle/working/) that gets preserved as output when you create a version using \"Save & Run All\" \n",
    "# You can also write temporary files to /kaggle/temp/, but they won't be saved outside of the current session"
   ]
  },
  {
   "cell_type": "code",
   "execution_count": 2,
   "id": "784c596f",
   "metadata": {
    "execution": {
     "iopub.execute_input": "2021-09-02T21:52:24.096513Z",
     "iopub.status.busy": "2021-09-02T21:52:24.095543Z",
     "iopub.status.idle": "2021-09-02T21:52:24.243854Z",
     "shell.execute_reply": "2021-09-02T21:52:24.244361Z",
     "shell.execute_reply.started": "2021-09-02T21:50:48.469449Z"
    },
    "papermill": {
     "duration": 0.166794,
     "end_time": "2021-09-02T21:52:24.244531",
     "exception": false,
     "start_time": "2021-09-02T21:52:24.077737",
     "status": "completed"
    },
    "tags": []
   },
   "outputs": [
    {
     "name": "stdout",
     "output_type": "stream",
     "text": [
      "what is the shape of the data (1600, 22)\n",
      "list of the columns Index(['id', 'battery_power', 'blue', 'clock_speed', 'dual_sim', 'fc',\n",
      "       'four_g', 'int_memory', 'm_dep', 'mobile_wt', 'n_cores', 'pc',\n",
      "       'px_height', 'px_width', 'ram', 'sc_h', 'sc_w', 'talk_time', 'three_g',\n",
      "       'touch_screen', 'wifi', 'price_range'],\n",
      "      dtype='object')\n"
     ]
    },
    {
     "data": {
      "text/html": [
       "<div>\n",
       "<style scoped>\n",
       "    .dataframe tbody tr th:only-of-type {\n",
       "        vertical-align: middle;\n",
       "    }\n",
       "\n",
       "    .dataframe tbody tr th {\n",
       "        vertical-align: top;\n",
       "    }\n",
       "\n",
       "    .dataframe thead th {\n",
       "        text-align: right;\n",
       "    }\n",
       "</style>\n",
       "<table border=\"1\" class=\"dataframe\">\n",
       "  <thead>\n",
       "    <tr style=\"text-align: right;\">\n",
       "      <th></th>\n",
       "      <th>id</th>\n",
       "      <th>battery_power</th>\n",
       "      <th>blue</th>\n",
       "      <th>clock_speed</th>\n",
       "      <th>dual_sim</th>\n",
       "      <th>fc</th>\n",
       "      <th>four_g</th>\n",
       "      <th>int_memory</th>\n",
       "      <th>m_dep</th>\n",
       "      <th>mobile_wt</th>\n",
       "      <th>...</th>\n",
       "      <th>px_height</th>\n",
       "      <th>px_width</th>\n",
       "      <th>ram</th>\n",
       "      <th>sc_h</th>\n",
       "      <th>sc_w</th>\n",
       "      <th>talk_time</th>\n",
       "      <th>three_g</th>\n",
       "      <th>touch_screen</th>\n",
       "      <th>wifi</th>\n",
       "      <th>price_range</th>\n",
       "    </tr>\n",
       "  </thead>\n",
       "  <tbody>\n",
       "    <tr>\n",
       "      <th>0</th>\n",
       "      <td>401</td>\n",
       "      <td>842</td>\n",
       "      <td>0</td>\n",
       "      <td>2.2</td>\n",
       "      <td>0</td>\n",
       "      <td>1</td>\n",
       "      <td>0</td>\n",
       "      <td>7</td>\n",
       "      <td>0.6</td>\n",
       "      <td>188.0</td>\n",
       "      <td>...</td>\n",
       "      <td>20</td>\n",
       "      <td>756</td>\n",
       "      <td>2549</td>\n",
       "      <td>9</td>\n",
       "      <td>7</td>\n",
       "      <td>19</td>\n",
       "      <td>0</td>\n",
       "      <td>0</td>\n",
       "      <td>1</td>\n",
       "      <td>0</td>\n",
       "    </tr>\n",
       "    <tr>\n",
       "      <th>1</th>\n",
       "      <td>402</td>\n",
       "      <td>1021</td>\n",
       "      <td>1</td>\n",
       "      <td>0.5</td>\n",
       "      <td>1</td>\n",
       "      <td>0</td>\n",
       "      <td>1</td>\n",
       "      <td>53</td>\n",
       "      <td>0.7</td>\n",
       "      <td>136.0</td>\n",
       "      <td>...</td>\n",
       "      <td>905</td>\n",
       "      <td>1988</td>\n",
       "      <td>2631</td>\n",
       "      <td>17</td>\n",
       "      <td>3</td>\n",
       "      <td>7</td>\n",
       "      <td>1</td>\n",
       "      <td>1</td>\n",
       "      <td>0</td>\n",
       "      <td>1</td>\n",
       "    </tr>\n",
       "    <tr>\n",
       "      <th>2</th>\n",
       "      <td>403</td>\n",
       "      <td>563</td>\n",
       "      <td>1</td>\n",
       "      <td>0.5</td>\n",
       "      <td>1</td>\n",
       "      <td>2</td>\n",
       "      <td>1</td>\n",
       "      <td>41</td>\n",
       "      <td>0.9</td>\n",
       "      <td>145.0</td>\n",
       "      <td>...</td>\n",
       "      <td>1263</td>\n",
       "      <td>1716</td>\n",
       "      <td>2603</td>\n",
       "      <td>11</td>\n",
       "      <td>2</td>\n",
       "      <td>9</td>\n",
       "      <td>1</td>\n",
       "      <td>1</td>\n",
       "      <td>0</td>\n",
       "      <td>1</td>\n",
       "    </tr>\n",
       "    <tr>\n",
       "      <th>3</th>\n",
       "      <td>404</td>\n",
       "      <td>615</td>\n",
       "      <td>1</td>\n",
       "      <td>2.5</td>\n",
       "      <td>0</td>\n",
       "      <td>0</td>\n",
       "      <td>0</td>\n",
       "      <td>10</td>\n",
       "      <td>0.8</td>\n",
       "      <td>131.0</td>\n",
       "      <td>...</td>\n",
       "      <td>1216</td>\n",
       "      <td>1786</td>\n",
       "      <td>2769</td>\n",
       "      <td>16</td>\n",
       "      <td>8</td>\n",
       "      <td>11</td>\n",
       "      <td>1</td>\n",
       "      <td>0</td>\n",
       "      <td>0</td>\n",
       "      <td>1</td>\n",
       "    </tr>\n",
       "    <tr>\n",
       "      <th>4</th>\n",
       "      <td>405</td>\n",
       "      <td>1821</td>\n",
       "      <td>1</td>\n",
       "      <td>1.2</td>\n",
       "      <td>0</td>\n",
       "      <td>13</td>\n",
       "      <td>1</td>\n",
       "      <td>44</td>\n",
       "      <td>0.6</td>\n",
       "      <td>141.0</td>\n",
       "      <td>...</td>\n",
       "      <td>1208</td>\n",
       "      <td>1212</td>\n",
       "      <td>1411</td>\n",
       "      <td>8</td>\n",
       "      <td>2</td>\n",
       "      <td>15</td>\n",
       "      <td>1</td>\n",
       "      <td>1</td>\n",
       "      <td>0</td>\n",
       "      <td>0</td>\n",
       "    </tr>\n",
       "  </tbody>\n",
       "</table>\n",
       "<p>5 rows × 22 columns</p>\n",
       "</div>"
      ],
      "text/plain": [
       "    id  battery_power  blue  clock_speed  dual_sim  fc  four_g  int_memory  \\\n",
       "0  401            842     0          2.2         0   1       0           7   \n",
       "1  402           1021     1          0.5         1   0       1          53   \n",
       "2  403            563     1          0.5         1   2       1          41   \n",
       "3  404            615     1          2.5         0   0       0          10   \n",
       "4  405           1821     1          1.2         0  13       1          44   \n",
       "\n",
       "   m_dep  mobile_wt  ...  px_height  px_width   ram  sc_h  sc_w  talk_time  \\\n",
       "0    0.6      188.0  ...         20       756  2549     9     7         19   \n",
       "1    0.7      136.0  ...        905      1988  2631    17     3          7   \n",
       "2    0.9      145.0  ...       1263      1716  2603    11     2          9   \n",
       "3    0.8      131.0  ...       1216      1786  2769    16     8         11   \n",
       "4    0.6      141.0  ...       1208      1212  1411     8     2         15   \n",
       "\n",
       "   three_g  touch_screen  wifi  price_range  \n",
       "0        0             0     1            0  \n",
       "1        1             1     0            1  \n",
       "2        1             1     0            1  \n",
       "3        1             0     0            1  \n",
       "4        1             1     0            0  \n",
       "\n",
       "[5 rows x 22 columns]"
      ]
     },
     "execution_count": 2,
     "metadata": {},
     "output_type": "execute_result"
    }
   ],
   "source": [
    "# load the data \n",
    "df  = pd.read_csv(\"/kaggle/input/applai-summer-contest-a/Training_Data.csv\")\n",
    "print(\"what is the shape of the data\", df.shape)\n",
    "\n",
    "print(\"list of the columns\", df.columns)\n",
    "df.head()"
   ]
  },
  {
   "cell_type": "code",
   "execution_count": 3,
   "id": "885bf8fe",
   "metadata": {
    "execution": {
     "iopub.execute_input": "2021-09-02T21:52:24.277707Z",
     "iopub.status.busy": "2021-09-02T21:52:24.276905Z",
     "iopub.status.idle": "2021-09-02T21:52:25.430718Z",
     "shell.execute_reply": "2021-09-02T21:52:25.430072Z",
     "shell.execute_reply.started": "2021-09-02T21:50:48.511501Z"
    },
    "papermill": {
     "duration": 1.172253,
     "end_time": "2021-09-02T21:52:25.430857",
     "exception": false,
     "start_time": "2021-09-02T21:52:24.258604",
     "status": "completed"
    },
    "tags": []
   },
   "outputs": [
    {
     "name": "stderr",
     "output_type": "stream",
     "text": [
      "/opt/conda/lib/python3.7/site-packages/seaborn/_decorators.py:43: FutureWarning: Pass the following variable as a keyword arg: x. From version 0.12, the only valid positional argument will be `data`, and passing other arguments without an explicit keyword will result in an error or misinterpretation.\n",
      "  FutureWarning\n"
     ]
    },
    {
     "data": {
      "text/plain": [
       "<AxesSubplot:xlabel='price_range', ylabel='count'>"
      ]
     },
     "execution_count": 3,
     "metadata": {},
     "output_type": "execute_result"
    },
    {
     "data": {
      "image/png": "[encoded data removed]",
      "text/plain": [
       "<Figure size 432x288 with 1 Axes>"
      ]
     },
     "metadata": {
      "needs_background": "light"
     },
     "output_type": "display_data"
    }
   ],
   "source": [
    "## we need to predict if price is high or low \n",
    "import seaborn as sns\n",
    "sns.countplot(df.price_range)"
   ]
  },
  {
   "cell_type": "code",
   "execution_count": 4,
   "id": "93a99807",
   "metadata": {
    "execution": {
     "iopub.execute_input": "2021-09-02T21:52:25.471079Z",
     "iopub.status.busy": "2021-09-02T21:52:25.470226Z",
     "iopub.status.idle": "2021-09-02T21:52:25.473375Z",
     "shell.execute_reply": "2021-09-02T21:52:25.473892Z",
     "shell.execute_reply.started": "2021-09-02T21:50:48.697467Z"
    },
    "papermill": {
     "duration": 0.02705,
     "end_time": "2021-09-02T21:52:25.474078",
     "exception": false,
     "start_time": "2021-09-02T21:52:25.447028",
     "status": "completed"
    },
    "tags": []
   },
   "outputs": [
    {
     "data": {
      "text/plain": [
       "id                  0\n",
       "battery_power       0\n",
       "blue                0\n",
       "clock_speed      1336\n",
       "dual_sim            0\n",
       "fc                  0\n",
       "four_g              0\n",
       "int_memory          0\n",
       "m_dep               0\n",
       "mobile_wt          30\n",
       "n_cores             0\n",
       "pc                  0\n",
       "px_height           0\n",
       "px_width            0\n",
       "ram                 0\n",
       "sc_h                0\n",
       "sc_w                0\n",
       "talk_time           0\n",
       "three_g             0\n",
       "touch_screen        0\n",
       "wifi                0\n",
       "price_range         0\n",
       "dtype: int64"
      ]
     },
     "execution_count": 4,
     "metadata": {},
     "output_type": "execute_result"
    }
   ],
   "source": [
    "## how many nulls we have \n",
    "df.isna().sum()"
   ]
  },
  {
   "cell_type": "code",
   "execution_count": 5,
   "id": "1d3bd8fb",
   "metadata": {
    "execution": {
     "iopub.execute_input": "2021-09-02T21:52:25.510113Z",
     "iopub.status.busy": "2021-09-02T21:52:25.509416Z",
     "iopub.status.idle": "2021-09-02T21:52:25.514404Z",
     "shell.execute_reply": "2021-09-02T21:52:25.514873Z",
     "shell.execute_reply.started": "2021-09-02T21:50:48.708785Z"
    },
    "papermill": {
     "duration": 0.024462,
     "end_time": "2021-09-02T21:52:25.515047",
     "exception": false,
     "start_time": "2021-09-02T21:52:25.490585",
     "status": "completed"
    },
    "tags": []
   },
   "outputs": [],
   "source": [
    "## we will drop the Nulls of clockspeed\n",
    "df.drop(\"clock_speed\", axis=1, inplace = True)\n"
   ]
  },
  {
   "cell_type": "code",
   "execution_count": 6,
   "id": "c890e4fe",
   "metadata": {
    "execution": {
     "iopub.execute_input": "2021-09-02T21:52:25.551683Z",
     "iopub.status.busy": "2021-09-02T21:52:25.550873Z",
     "iopub.status.idle": "2021-09-02T21:52:25.556908Z",
     "shell.execute_reply": "2021-09-02T21:52:25.556309Z",
     "shell.execute_reply.started": "2021-09-02T21:50:48.724437Z"
    },
    "papermill": {
     "duration": 0.0252,
     "end_time": "2021-09-02T21:52:25.557050",
     "exception": false,
     "start_time": "2021-09-02T21:52:25.531850",
     "status": "completed"
    },
    "tags": []
   },
   "outputs": [],
   "source": [
    "df['mobile_wt'].fillna(0, inplace = True)"
   ]
  },
  {
   "cell_type": "code",
   "execution_count": 7,
   "id": "6d7f54d2",
   "metadata": {
    "execution": {
     "iopub.execute_input": "2021-09-02T21:52:25.596626Z",
     "iopub.status.busy": "2021-09-02T21:52:25.595920Z",
     "iopub.status.idle": "2021-09-02T21:52:25.598777Z",
     "shell.execute_reply": "2021-09-02T21:52:25.599422Z",
     "shell.execute_reply.started": "2021-09-02T21:50:48.740257Z"
    },
    "papermill": {
     "duration": 0.026128,
     "end_time": "2021-09-02T21:52:25.599608",
     "exception": false,
     "start_time": "2021-09-02T21:52:25.573480",
     "status": "completed"
    },
    "tags": []
   },
   "outputs": [],
   "source": [
    "## target is price range \n",
    "## let us randomForest for this problem\n",
    "## classifier \n",
    "\n",
    "X = df.drop(\"price_range\", axis = 1)\n",
    "y = df['price_range']"
   ]
  },
  {
   "cell_type": "code",
   "execution_count": 8,
   "id": "7f0d2580",
   "metadata": {
    "execution": {
     "iopub.execute_input": "2021-09-02T21:52:25.637049Z",
     "iopub.status.busy": "2021-09-02T21:52:25.636351Z",
     "iopub.status.idle": "2021-09-02T21:52:26.087887Z",
     "shell.execute_reply": "2021-09-02T21:52:26.087345Z",
     "shell.execute_reply.started": "2021-09-02T21:50:48.756413Z"
    },
    "papermill": {
     "duration": 0.472208,
     "end_time": "2021-09-02T21:52:26.088032",
     "exception": false,
     "start_time": "2021-09-02T21:52:25.615824",
     "status": "completed"
    },
    "tags": []
   },
   "outputs": [
    {
     "name": "stdout",
     "output_type": "stream",
     "text": [
      "[21:52:25] WARNING: ../src/learner.cc:1095: Starting in XGBoost 1.3.0, the default evaluation metric used with the objective 'binary:logistic' was changed from 'error' to 'logloss'. Explicitly set eval_metric if you'd like to restore the old behavior.\n"
     ]
    },
    {
     "name": "stderr",
     "output_type": "stream",
     "text": [
      "/opt/conda/lib/python3.7/site-packages/xgboost/sklearn.py:1146: UserWarning: The use of label encoder in XGBClassifier is deprecated and will be removed in a future release. To remove this warning, do the following: 1) Pass option use_label_encoder=False when constructing XGBClassifier object; and 2) Encode your labels (y) as integers starting with 0, i.e. 0, 1, 2, ..., [num_class - 1].\n",
      "  warnings.warn(label_encoder_deprecation_msg, UserWarning)\n"
     ]
    },
    {
     "data": {
      "text/plain": [
       "XGBClassifier(base_score=0.5, booster='gbtree', colsample_bylevel=1,\n",
       "              colsample_bynode=1, colsample_bytree=1, gamma=0, gpu_id=-1,\n",
       "              importance_type='gain', interaction_constraints='',\n",
       "              learning_rate=0.300000012, max_delta_step=0, max_depth=6,\n",
       "              min_child_weight=1, missing=nan, monotone_constraints='()',\n",
       "              n_estimators=100, n_jobs=4, num_parallel_tree=1, random_state=0,\n",
       "              reg_alpha=0, reg_lambda=1, scale_pos_weight=1, subsample=1,\n",
       "              tree_method='exact', validate_parameters=1, verbosity=None)"
      ]
     },
     "execution_count": 8,
     "metadata": {},
     "output_type": "execute_result"
    }
   ],
   "source": [
    "# from sklearn.ensemble import RandomForestClassifier\n",
    "# model = RandomForestClassifier()\n",
    "\n",
    "# we will add xgboost \n",
    "from xgboost import XGBClassifier\n",
    "model  = XGBClassifier()\n",
    "model.fit(X,y)"
   ]
  },
  {
   "cell_type": "code",
   "execution_count": 9,
   "id": "80748054",
   "metadata": {
    "execution": {
     "iopub.execute_input": "2021-09-02T21:52:26.126134Z",
     "iopub.status.busy": "2021-09-02T21:52:26.125415Z",
     "iopub.status.idle": "2021-09-02T21:52:26.139618Z",
     "shell.execute_reply": "2021-09-02T21:52:26.140158Z",
     "shell.execute_reply.started": "2021-09-02T21:50:49.241534Z"
    },
    "papermill": {
     "duration": 0.035375,
     "end_time": "2021-09-02T21:52:26.140358",
     "exception": false,
     "start_time": "2021-09-02T21:52:26.104983",
     "status": "completed"
    },
    "tags": []
   },
   "outputs": [],
   "source": [
    "## test the model \n",
    "test = pd.read_csv(\"/kaggle/input/applai-summer-contest-a/Test_Data.csv\")"
   ]
  },
  {
   "cell_type": "code",
   "execution_count": 10,
   "id": "3bf6d065",
   "metadata": {
    "execution": {
     "iopub.execute_input": "2021-09-02T21:52:26.178181Z",
     "iopub.status.busy": "2021-09-02T21:52:26.177437Z",
     "iopub.status.idle": "2021-09-02T21:52:26.187491Z",
     "shell.execute_reply": "2021-09-02T21:52:26.187951Z",
     "shell.execute_reply.started": "2021-09-02T21:50:49.260797Z"
    },
    "papermill": {
     "duration": 0.030501,
     "end_time": "2021-09-02T21:52:26.188170",
     "exception": false,
     "start_time": "2021-09-02T21:52:26.157669",
     "status": "completed"
    },
    "tags": []
   },
   "outputs": [
    {
     "name": "stdout",
     "output_type": "stream",
     "text": [
      "shape of the test dataset (400, 21)\n",
      "columns in test dataset Index(['id', 'battery_power', 'blue', 'clock_speed', 'dual_sim', 'fc',\n",
      "       'four_g', 'int_memory', 'm_dep', 'mobile_wt', 'n_cores', 'pc',\n",
      "       'px_height', 'px_width', 'ram', 'sc_h', 'sc_w', 'talk_time', 'three_g',\n",
      "       'touch_screen', 'wifi'],\n",
      "      dtype='object')\n"
     ]
    }
   ],
   "source": [
    "print(\"shape of the test dataset\", test.shape)\n",
    "print(\"columns in test dataset\", test.columns)\n",
    "\n",
    "# drop the clockspeed\n",
    "test.drop(\"clock_speed\", axis=1, inplace=True)\n",
    "test['mobile_wt'].fillna(0, inplace =True)\n",
    "\n",
    "# create test feature set\n",
    "#x_test = test.drop(\"price_range\")\n",
    "#y_test = test['price_range']"
   ]
  },
  {
   "cell_type": "code",
   "execution_count": 11,
   "id": "4702fcc7",
   "metadata": {
    "execution": {
     "iopub.execute_input": "2021-09-02T21:52:26.230080Z",
     "iopub.status.busy": "2021-09-02T21:52:26.229013Z",
     "iopub.status.idle": "2021-09-02T21:52:26.236103Z",
     "shell.execute_reply": "2021-09-02T21:52:26.236697Z",
     "shell.execute_reply.started": "2021-09-02T21:50:49.271654Z"
    },
    "papermill": {
     "duration": 0.031416,
     "end_time": "2021-09-02T21:52:26.236903",
     "exception": false,
     "start_time": "2021-09-02T21:52:26.205487",
     "status": "completed"
    },
    "tags": []
   },
   "outputs": [],
   "source": [
    "y_pred = model.predict(test)"
   ]
  },
  {
   "cell_type": "code",
   "execution_count": 12,
   "id": "3a8fa8cf",
   "metadata": {
    "execution": {
     "iopub.execute_input": "2021-09-02T21:52:26.282524Z",
     "iopub.status.busy": "2021-09-02T21:52:26.281450Z",
     "iopub.status.idle": "2021-09-02T21:52:26.287868Z",
     "shell.execute_reply": "2021-09-02T21:52:26.287219Z",
     "shell.execute_reply.started": "2021-09-02T21:50:49.289335Z"
    },
    "papermill": {
     "duration": 0.030597,
     "end_time": "2021-09-02T21:52:26.288020",
     "exception": false,
     "start_time": "2021-09-02T21:52:26.257423",
     "status": "completed"
    },
    "tags": []
   },
   "outputs": [],
   "source": [
    "my_submission = pd.DataFrame({'Id': test.id, 'price_range': y_pred})\n",
    "# you could use any filename. We choose submission here\n",
    "my_submission.to_csv('submission.csv', index=False)"
   ]
  },
  {
   "cell_type": "code",
   "execution_count": 13,
   "id": "2d15b31c",
   "metadata": {
    "execution": {
     "iopub.execute_input": "2021-09-02T21:52:26.326810Z",
     "iopub.status.busy": "2021-09-02T21:52:26.325854Z",
     "iopub.status.idle": "2021-09-02T21:52:26.329075Z",
     "shell.execute_reply": "2021-09-02T21:52:26.329659Z",
     "shell.execute_reply.started": "2021-09-02T21:51:53.709937Z"
    },
    "papermill": {
     "duration": 0.024694,
     "end_time": "2021-09-02T21:52:26.329847",
     "exception": false,
     "start_time": "2021-09-02T21:52:26.305153",
     "status": "completed"
    },
    "tags": []
   },
   "outputs": [],
   "source": [
    "# This is a quick and very naive way to compelete  the project. \n",
    "# But it covers most of the thing, we want to tell\n"
   ]
  },
  {
   "cell_type": "code",
   "execution_count": null,
   "id": "b4b44573",
   "metadata": {
    "papermill": {
     "duration": 0.017479,
     "end_time": "2021-09-02T21:52:26.365033",
     "exception": false,
     "start_time": "2021-09-02T21:52:26.347554",
     "status": "completed"
    },
    "tags": []
   },
   "outputs": [],
   "source": []
  }
 ],
 "metadata": {
  "kernelspec": {
   "display_name": "Python 3",
   "language": "python",
   "name": "python3"
  },
  "language_info": {
   "codemirror_mode": {
    "name": "ipython",
    "version": 3
   },
   "file_extension": ".py",
   "mimetype": "text/x-python",
   "name": "python",
   "nbconvert_exporter": "python",
   "pygments_lexer": "ipython3",
   "version": "3.7.10"
  },
  "papermill": {
   "default_parameters": {},
   "duration": 11.547969,
   "end_time": "2021-09-02T21:52:27.193096",
   "environment_variables": {},
   "exception": null,
   "input_path": "__notebook__.ipynb",
   "output_path": "__notebook__.ipynb",
   "parameters": {},
   "start_time": "2021-09-02T21:52:15.645127",
   "version": "2.3.3"
  }
 },
 "nbformat": 4,
 "nbformat_minor": 5
}
